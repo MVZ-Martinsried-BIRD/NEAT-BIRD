{
 "cells": [
  {
   "cell_type": "code",
   "execution_count": 363,
   "metadata": {},
   "outputs": [],
   "source": [
    "cd = {1:4, 2:6, 3:1, 4:8, 5:3, 10:2}"
   ]
  },
  {
   "cell_type": "code",
   "execution_count": 392,
   "metadata": {},
   "outputs": [],
   "source": [
    "list = []\n",
    "for key in cd.keys():\n",
    "    for i in range(cd[key]):\n",
    "        list.append(key)\n",
    "list = sorted(list)"
   ]
  },
  {
   "cell_type": "code",
   "execution_count": 393,
   "metadata": {
    "scrolled": true
   },
   "outputs": [
    {
     "data": {
      "text/plain": [
       "[202,\n",
       " 221,\n",
       " 234,\n",
       " 240,\n",
       " 245,\n",
       " 251,\n",
       " 251,\n",
       " 252,\n",
       " 254,\n",
       " 255,\n",
       " 256,\n",
       " 258,\n",
       " 258,\n",
       " 259,\n",
       " 259,\n",
       " 263,\n",
       " 263,\n",
       " 264,\n",
       " 266,\n",
       " 267,\n",
       " 268,\n",
       " 269,\n",
       " 269,\n",
       " 270,\n",
       " 271,\n",
       " 273,\n",
       " 273,\n",
       " 274,\n",
       " 274,\n",
       " 275,\n",
       " 276,\n",
       " 276,\n",
       " 277,\n",
       " 278,\n",
       " 278,\n",
       " 278,\n",
       " 280,\n",
       " 280,\n",
       " 280,\n",
       " 280,\n",
       " 280,\n",
       " 281,\n",
       " 282,\n",
       " 282,\n",
       " 283,\n",
       " 283,\n",
       " 284,\n",
       " 284,\n",
       " 285,\n",
       " 285,\n",
       " 286,\n",
       " 287,\n",
       " 288,\n",
       " 288,\n",
       " 288,\n",
       " 288,\n",
       " 288,\n",
       " 289,\n",
       " 290,\n",
       " 291,\n",
       " 291,\n",
       " 292,\n",
       " 293,\n",
       " 294,\n",
       " 294,\n",
       " 294,\n",
       " 294,\n",
       " 294,\n",
       " 295,\n",
       " 295,\n",
       " 295,\n",
       " 296,\n",
       " 296,\n",
       " 297,\n",
       " 297,\n",
       " 297,\n",
       " 298,\n",
       " 298,\n",
       " 298,\n",
       " 298,\n",
       " 298,\n",
       " 299,\n",
       " 299,\n",
       " 300,\n",
       " 300,\n",
       " 300,\n",
       " 300,\n",
       " 301,\n",
       " 301,\n",
       " 302,\n",
       " 303,\n",
       " 304,\n",
       " 304,\n",
       " 304,\n",
       " 304,\n",
       " 304,\n",
       " 304,\n",
       " 304,\n",
       " 304,\n",
       " 305,\n",
       " 305,\n",
       " 305,\n",
       " 305,\n",
       " 306,\n",
       " 307,\n",
       " 307,\n",
       " 307,\n",
       " 307,\n",
       " 307,\n",
       " 309,\n",
       " 309,\n",
       " 309,\n",
       " 309,\n",
       " 309,\n",
       " 309,\n",
       " 310,\n",
       " 311,\n",
       " 312,\n",
       " 312,\n",
       " 312,\n",
       " 313,\n",
       " 313,\n",
       " 313,\n",
       " 314,\n",
       " 315,\n",
       " 315,\n",
       " 315,\n",
       " 316,\n",
       " 317,\n",
       " 318,\n",
       " 318,\n",
       " 319,\n",
       " 320,\n",
       " 320,\n",
       " 320,\n",
       " 321,\n",
       " 321,\n",
       " 322,\n",
       " 322,\n",
       " 323,\n",
       " 324,\n",
       " 324,\n",
       " 325,\n",
       " 326,\n",
       " 327,\n",
       " 327,\n",
       " 330,\n",
       " 330,\n",
       " 330,\n",
       " 331,\n",
       " 331,\n",
       " 331,\n",
       " 331,\n",
       " 331,\n",
       " 331,\n",
       " 332,\n",
       " 332,\n",
       " 332,\n",
       " 333,\n",
       " 334,\n",
       " 334,\n",
       " 335,\n",
       " 335,\n",
       " 336,\n",
       " 337,\n",
       " 340,\n",
       " 342,\n",
       " 343,\n",
       " 345,\n",
       " 346,\n",
       " 349,\n",
       " 350,\n",
       " 350,\n",
       " 351,\n",
       " 351,\n",
       " 354,\n",
       " 354,\n",
       " 355,\n",
       " 355,\n",
       " 357,\n",
       " 357,\n",
       " 366,\n",
       " 391,\n",
       " 702,\n",
       " 170812,\n",
       " 170867,\n",
       " 176223,\n",
       " 176232,\n",
       " 176246,\n",
       " 176246,\n",
       " 176264,\n",
       " 176823,\n",
       " 176843,\n",
       " 176853,\n",
       " 176857,\n",
       " 176872,\n",
       " 176873,\n",
       " 176882,\n",
       " 176901,\n",
       " 227861,\n",
       " 227929,\n",
       " 228788,\n",
       " 234681,\n",
       " 234709,\n",
       " 266239,\n",
       " 334312,\n",
       " 334397,\n",
       " 355486,\n",
       " 356237,\n",
       " 356286,\n",
       " 358848,\n",
       " 414700,\n",
       " 570127,\n",
       " 570166,\n",
       " 174159732,\n",
       " 223639769,\n",
       " 223816267,\n",
       " 242562011]"
      ]
     },
     "execution_count": 393,
     "metadata": {},
     "output_type": "execute_result"
    }
   ],
   "source": [
    "list"
   ]
  },
  {
   "cell_type": "code",
   "execution_count": 369,
   "metadata": {},
   "outputs": [],
   "source": [
    "def quick_median(count_dict: dict) -> int:\n",
    "    \"\"\"\n",
    "    Finds the median of a counting dictionary\n",
    "    :param count_dict: the counting dictionary to find the median of\n",
    "    :return: integer index of the location of the median\n",
    "    \"\"\"\n",
    "    list = []\n",
    "    for key in count_dict.keys():\n",
    "        for i in range(count_dict[key]):\n",
    "            list.append(key)\n",
    "    list = sorted(list)\n",
    "    midpoint = len(list)//2\n",
    "    if len(list)%2 == 0:\n",
    "        median = (list[midpoint] + list[midpoint-1])//2\n",
    "    else:\n",
    "        median = list[midpoint]\n",
    "    return median"
   ]
  },
  {
   "cell_type": "code",
   "execution_count": 305,
   "metadata": {},
   "outputs": [],
   "source": [
    "def quick_median_old(count_dict: dict) -> int:\n",
    "    mid_point = sum(count_dict.values()) / 2\n",
    "    my_sum = 0\n",
    "    my_ind = 0\n",
    "    sk = sorted(count_dict.keys())\n",
    "    while my_sum < mid_point:\n",
    "        my_sum += count_dict[sk[my_ind]]\n",
    "        if my_sum >= mid_point:\n",
    "            break\n",
    "        my_ind += 1\n",
    "    return sk[my_ind]"
   ]
  },
  {
   "cell_type": "code",
   "execution_count": 323,
   "metadata": {},
   "outputs": [],
   "source": [
    "cd = {4: 10, 236: 13, 99: 43, 88: 43, 127: 15}"
   ]
  },
  {
   "cell_type": "code",
   "execution_count": 370,
   "metadata": {},
   "outputs": [
    {
     "data": {
      "text/plain": [
       "4"
      ]
     },
     "execution_count": 370,
     "metadata": {},
     "output_type": "execute_result"
    }
   ],
   "source": [
    "quick_median(cd)"
   ]
  },
  {
   "cell_type": "code",
   "execution_count": 325,
   "metadata": {},
   "outputs": [
    {
     "data": {
      "text/plain": [
       "99"
      ]
     },
     "execution_count": 325,
     "metadata": {},
     "output_type": "execute_result"
    }
   ],
   "source": [
    "quick_median_old(cd)"
   ]
  },
  {
   "cell_type": "code",
   "execution_count": 326,
   "metadata": {},
   "outputs": [],
   "source": [
    "cd2 = {4: 10, 236: 13, 99: 43, 88: 43, 127: 14, 8:102}"
   ]
  },
  {
   "cell_type": "code",
   "execution_count": 327,
   "metadata": {},
   "outputs": [
    {
     "data": {
      "text/plain": [
       "88"
      ]
     },
     "execution_count": 327,
     "metadata": {},
     "output_type": "execute_result"
    }
   ],
   "source": [
    "quick_median(cd2)"
   ]
  },
  {
   "cell_type": "code",
   "execution_count": 328,
   "metadata": {},
   "outputs": [
    {
     "data": {
      "text/plain": [
       "88"
      ]
     },
     "execution_count": 328,
     "metadata": {},
     "output_type": "execute_result"
    }
   ],
   "source": [
    "quick_median_old(cd2)"
   ]
  },
  {
   "cell_type": "code",
   "execution_count": 308,
   "metadata": {},
   "outputs": [],
   "source": [
    "my_median1 = quick_median(cd)\n",
    "my_median2 = quick_median(cd2)"
   ]
  },
  {
   "cell_type": "code",
   "execution_count": 309,
   "metadata": {},
   "outputs": [],
   "source": [
    "def median_deviation_from_median(count_dict: dict) -> int:\n",
    "    \"\"\"\n",
    "    calculates the deviation from the median of each element of counting dictionary,\n",
    "    then returns the median of that dictionary\n",
    "    :param count_dict: Counting dictionary to analyze\n",
    "    :return: index of median of the deviations\n",
    "    \"\"\"\n",
    "    my_median = quick_median(count_dict)\n",
    "    deviations = {}\n",
    "    for key in sorted(count_dict.keys()):\n",
    "        X_value = abs(key - my_median)\n",
    "        deviations[X_value] = count_dict[key]\n",
    "    print(deviations)\n",
    "    return quick_median(deviations)"
   ]
  },
  {
   "cell_type": "code",
   "execution_count": 342,
   "metadata": {
    "scrolled": true
   },
   "outputs": [
    {
     "name": "stdout",
     "output_type": "stream",
     "text": [
      "{95: 10, 11: 43, 0: 43, 28: 15, 137: 13}\n"
     ]
    },
    {
     "data": {
      "text/plain": [
       "11"
      ]
     },
     "execution_count": 342,
     "metadata": {},
     "output_type": "execute_result"
    }
   ],
   "source": [
    "median_deviation_from_median(cd)"
   ]
  },
  {
   "cell_type": "code",
   "execution_count": 353,
   "metadata": {},
   "outputs": [
    {
     "name": "stdout",
     "output_type": "stream",
     "text": [
      "[0, 0, 0, 0, 0, 0, 0, 0, 0, 0, 0, 0, 0, 0, 0, 0, 0, 0, 0, 0, 0, 0, 0, 0, 0, 0, 0, 0, 0, 0, 0, 0, 0, 0, 0, 0, 0, 0, 0, 0, 0, 0, 0, 11, 11, 11, 11, 11, 11, 11, 11, 11, 11, 11, 11, 11, 11, 11, 11, 11, 11, 11, 11, 11, 11, 11, 11, 11, 11, 11, 11, 11, 11, 11, 11, 11, 11, 11, 11, 11, 11, 11, 11, 11, 11, 11, 28, 28, 28, 28, 28, 28, 28, 28, 28, 28, 28, 28, 28, 28, 95, 95, 95, 95, 95, 95, 95, 95, 95, 95, 137, 137, 137, 137, 137, 137, 137, 137, 137, 137, 137, 137, 137]\n"
     ]
    }
   ],
   "source": [
    "print(sorted([abs(x-99) for x in list]))"
   ]
  },
  {
   "cell_type": "code",
   "execution_count": 329,
   "metadata": {},
   "outputs": [],
   "source": [
    "cd3 = {1:100, 100:100}"
   ]
  },
  {
   "cell_type": "code",
   "execution_count": 330,
   "metadata": {},
   "outputs": [
    {
     "data": {
      "text/plain": [
       "50"
      ]
     },
     "execution_count": 330,
     "metadata": {},
     "output_type": "execute_result"
    }
   ],
   "source": [
    "quick_median(cd3)"
   ]
  },
  {
   "cell_type": "code",
   "execution_count": 331,
   "metadata": {},
   "outputs": [
    {
     "data": {
      "text/plain": [
       "1"
      ]
     },
     "execution_count": 331,
     "metadata": {},
     "output_type": "execute_result"
    }
   ],
   "source": [
    "quick_median_old(cd3)"
   ]
  },
  {
   "cell_type": "code",
   "execution_count": 401,
   "metadata": {},
   "outputs": [],
   "source": [
    "def quick_median_new(count_dict: dict) -> int:\n",
    "    mid_point = sum(count_dict.values()) / 2\n",
    "    my_sum = 0\n",
    "    my_ind = 0\n",
    "    sk = sorted(count_dict.keys())\n",
    "    while my_sum < mid_point:\n",
    "        my_sum += count_dict[sk[my_ind]]\n",
    "        if my_sum >= mid_point:\n",
    "            break\n",
    "        my_ind += 1\n",
    "    if sum(count_dict.values())%2 == 0:\n",
    "        median = (sk[my_ind] + sk[my_ind-1])//2\n",
    "    else:\n",
    "        median = sk[my_ind]\n",
    "    return median"
   ]
  },
  {
   "cell_type": "code",
   "execution_count": 378,
   "metadata": {},
   "outputs": [
    {
     "name": "stdout",
     "output_type": "stream",
     "text": [
      "12.0\n",
      "4\n",
      "10\n",
      "11\n",
      "19\n"
     ]
    },
    {
     "data": {
      "text/plain": [
       "3"
      ]
     },
     "execution_count": 378,
     "metadata": {},
     "output_type": "execute_result"
    }
   ],
   "source": [
    "quick_median_new(cd)"
   ]
  },
  {
   "cell_type": "code",
   "execution_count": 315,
   "metadata": {},
   "outputs": [],
   "source": [
    "def count_frags(file: str) -> dict:\n",
    "    \"\"\"\n",
    "    Takes a sam file input and creates a counting dictionary of the number of reads that are paired,\n",
    "    first in the pair, confidently mapped and whose pair is mapped to the same reference\n",
    "    :param file: A sam input file\n",
    "    :return: A dictionary of the counts of the above reads\n",
    "    \"\"\"\n",
    "    FILTER_MAPQUAL = 10  # only consider reads that are mapped with at least this mapping quality\n",
    "    count_dict = {}\n",
    "    PRINT_EVERY = 100000\n",
    "    i = 0\n",
    "    # Check if the file is sam or bam and decide how to open based on that\n",
    "    if file[-4:] == \".sam\":\n",
    "        file_to_parse = open(file, 'r')\n",
    "    elif file[-4:] == \".bam\":\n",
    "        file_to_parse = pysam.AlignmentFile(file, 'rb')\n",
    "    else:\n",
    "        print(\"Unknown file type, must be bam or sam\")\n",
    "        exit(1)\n",
    "\n",
    "    for item in file_to_parse:\n",
    "        # Need to convert bam iterable objects into strings for the next part\n",
    "        line = str(item)\n",
    "        # Skip all comments and headers\n",
    "        if line[0] == '#' or line[0] == '@':\n",
    "            continue\n",
    "        splt = line.strip().split('\\t')\n",
    "        samFlag = int(splt[1])\n",
    "        myRef = splt[2]\n",
    "        mapQual = int(splt[4])\n",
    "        mateRef = splt[6]\n",
    "        myTlen = abs(int(splt[8]))\n",
    "\n",
    "        # if read is paired, and is first in pair, and is confidently mapped...\n",
    "        if samFlag & 1 and samFlag & 64 and mapQual > FILTER_MAPQUAL:\n",
    "            # and mate is mapped to same reference\n",
    "            if mateRef == '=' or mateRef == myRef:\n",
    "                if myTlen not in count_dict:\n",
    "                    count_dict[myTlen] = 0\n",
    "                count_dict[myTlen] += 1\n",
    "                i += 1\n",
    "                if i % PRINT_EVERY == 0:\n",
    "                    print('---', i, quick_median(count_dict), median_deviation_from_median(count_dict))\n",
    "    return count_dict"
   ]
  },
  {
   "cell_type": "code",
   "execution_count": 391,
   "metadata": {},
   "outputs": [],
   "source": [
    "cd = count_frags(\"C:/Users/joshf/Documents/work_stuff/neat_data/baby.sam\")"
   ]
  },
  {
   "cell_type": "code",
   "execution_count": 317,
   "metadata": {},
   "outputs": [],
   "source": [
    "FILTER_MAPQUAL = 10  # only consider reads that are mapped with at least this mapping quality\n",
    "count_dict = {}\n",
    "PRINT_EVERY = 100000\n",
    "i = 0"
   ]
  },
  {
   "cell_type": "code",
   "execution_count": 24,
   "metadata": {},
   "outputs": [],
   "source": [
    "for item in file_to_parse:\n",
    "    # Need to convert bam iterable objects into strings for the next part\n",
    "    line = str(item)\n",
    "    # Skip all comments and headers\n",
    "    if line[0] == '#' or line[0] == '@':\n",
    "        continue\n",
    "    splt = line.strip().split('\\t')\n",
    "    samFlag = int(splt[1])\n",
    "    myRef = splt[2]\n",
    "    mapQual = int(splt[4])\n",
    "    mateRef = splt[6]\n",
    "    myTlen = abs(int(splt[8]))"
   ]
  },
  {
   "cell_type": "code",
   "execution_count": 52,
   "metadata": {},
   "outputs": [
    {
     "data": {
      "text/plain": [
       "128"
      ]
     },
     "execution_count": 52,
     "metadata": {},
     "output_type": "execute_result"
    }
   ],
   "source": [
    "len(count_dict)"
   ]
  },
  {
   "cell_type": "code",
   "execution_count": 361,
   "metadata": {},
   "outputs": [],
   "source": [
    "def compute_probs(count_dict: dict) -> (list, list):\n",
    "    \"\"\"\n",
    "    Computes the probabilities for fragments with at least 100 pairs supporting it and that are at least 10 median\n",
    "    deviations from the median.\n",
    "    :param count_dict: A dictionary of fragments with counts\n",
    "    :return: A list of values that meet the criteria and a list of -their associated probabilities\n",
    "    \"\"\"\n",
    "    FILTER_MINREADS = 100  # only consider fragment lengths that have at least this many read pairs supporting it\n",
    "    FILTER_MEDDEV_M = 10  # only consider fragment lengths this many median deviations above the median\n",
    "    values = []\n",
    "    probabilities = []\n",
    "    med = quick_median(count_dict)\n",
    "    mdm = median_deviation_from_median(count_dict)\n",
    "\n",
    "    for key in sorted(count_dict.keys()):\n",
    "        if 0 < key < med + FILTER_MEDDEV_M * mdm:\n",
    "            if count_dict[key] >= FILTER_MINREADS:\n",
    "                print(key, count_dict[key])\n",
    "                values.append(key)\n",
    "                probabilities.append(count_dict[key])\n",
    "    count_sum = float(sum(probabilities))\n",
    "    probabilities = [n / count_sum for n in probabilities]\n",
    "    return values, probabilities"
   ]
  },
  {
   "cell_type": "code",
   "execution_count": 362,
   "metadata": {},
   "outputs": [
    {
     "name": "stdout",
     "output_type": "stream",
     "text": [
      "{84: 10, 80: 102, 0: 43, 11: 43, 39: 14, 148: 13}\n",
      "8 102\n"
     ]
    },
    {
     "data": {
      "text/plain": [
       "([8], [1.0])"
      ]
     },
     "execution_count": 362,
     "metadata": {},
     "output_type": "execute_result"
    }
   ],
   "source": [
    "compute_probs(cd2)"
   ]
  },
  {
   "cell_type": "code",
   "execution_count": 394,
   "metadata": {},
   "outputs": [],
   "source": [
    "import timeit"
   ]
  },
  {
   "cell_type": "code",
   "execution_count": 395,
   "metadata": {},
   "outputs": [],
   "source": [
    "def wrapper(func, *args, **kwargs):\n",
    "    def wrapped():\n",
    "        return func(*args, **kwargs)\n",
    "    return wrapped"
   ]
  },
  {
   "cell_type": "code",
   "execution_count": 404,
   "metadata": {},
   "outputs": [
    {
     "ename": "ModuleNotFoundError",
     "evalue": "No module named 'pysam'",
     "output_type": "error",
     "traceback": [
      "\u001b[1;31m---------------------------------------------------------------------------\u001b[0m",
      "\u001b[1;31mModuleNotFoundError\u001b[0m                       Traceback (most recent call last)",
      "\u001b[1;32m<ipython-input-404-5a05a53419d8>\u001b[0m in \u001b[0;36m<module>\u001b[1;34m\u001b[0m\n\u001b[1;32m----> 1\u001b[1;33m \u001b[1;32mimport\u001b[0m \u001b[0mpysam\u001b[0m\u001b[1;33m\u001b[0m\u001b[1;33m\u001b[0m\u001b[0m\n\u001b[0m\u001b[0;32m      2\u001b[0m \u001b[0mcd\u001b[0m \u001b[1;33m=\u001b[0m \u001b[0mcount_frags\u001b[0m\u001b[1;33m(\u001b[0m\u001b[1;34m\"C:/Users/joshf/Documents/work_stuff/neat_data/WGS_chr20_21_22_normal.bam\"\u001b[0m\u001b[1;33m)\u001b[0m\u001b[1;33m\u001b[0m\u001b[1;33m\u001b[0m\u001b[0m\n",
      "\u001b[1;31mModuleNotFoundError\u001b[0m: No module named 'pysam'"
     ]
    }
   ],
   "source": [
    "import pysam\n",
    "cd = count_frags(\"C:/Users/joshf/Documents/work_stuff/neat_data/WGS_chr20_21_22_normal.bam\")"
   ]
  },
  {
   "cell_type": "code",
   "execution_count": 397,
   "metadata": {},
   "outputs": [],
   "source": [
    "wrapped = wrapper(quick_median, cd)"
   ]
  },
  {
   "cell_type": "code",
   "execution_count": 399,
   "metadata": {},
   "outputs": [
    {
     "data": {
      "text/plain": [
       "0.06138989998726174"
      ]
     },
     "execution_count": 399,
     "metadata": {},
     "output_type": "execute_result"
    }
   ],
   "source": [
    "timeit.timeit(wrapped, number=1000)"
   ]
  },
  {
   "cell_type": "code",
   "execution_count": 402,
   "metadata": {},
   "outputs": [
    {
     "data": {
      "text/plain": [
       "0.01676309999311343"
      ]
     },
     "execution_count": 402,
     "metadata": {},
     "output_type": "execute_result"
    }
   ],
   "source": [
    "wrapped2 = wrapper(quick_median_new, cd)\n",
    "timeit.timeit(wrapped2, number=1000)"
   ]
  },
  {
   "cell_type": "code",
   "execution_count": null,
   "metadata": {},
   "outputs": [],
   "source": []
  }
 ],
 "metadata": {
  "kernelspec": {
   "display_name": "Python 3",
   "language": "python",
   "name": "python3"
  },
  "language_info": {
   "codemirror_mode": {
    "name": "ipython",
    "version": 3
   },
   "file_extension": ".py",
   "mimetype": "text/x-python",
   "name": "python",
   "nbconvert_exporter": "python",
   "pygments_lexer": "ipython3",
   "version": "3.7.6"
  }
 },
 "nbformat": 4,
 "nbformat_minor": 4
}
